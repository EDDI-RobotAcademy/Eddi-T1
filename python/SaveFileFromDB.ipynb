{
 "cells": [
  {
   "cell_type": "code",
   "execution_count": 1,
   "id": "00c917a5",
   "metadata": {
    "pycharm": {
     "name": "#%%\n"
    }
   },
   "outputs": [],
   "source": [
    "import pymysql\n",
    "import pandas as pd"
   ]
  },
  {
   "cell_type": "code",
   "execution_count": 9,
   "id": "da850482",
   "metadata": {
    "pycharm": {
     "name": "#%%\n"
    }
   },
   "outputs": [
    {
     "name": "stdout",
     "output_type": "stream",
     "text": [
      "(1, 'ljb8194', '일반회원', 'JBTV', '123456')\n",
      "(2, 'joanna', '판매자', '조쿤', '123456')\n",
      "(3, 'testId', '판매자', '메롱', '123456')\n",
      "파이썬을 활용한 db 테이블 조회 성공!\n",
      "DB 데이터 cvs파일 저장 성공!\n"
     ]
    },
    {
     "name": "stderr",
     "output_type": "stream",
     "text": [
      "C:\\Users\\user\\anaconda3\\lib\\site-packages\\pandas\\io\\sql.py:761: UserWarning: pandas only support SQLAlchemy connectable(engine/connection) ordatabase string URI or sqlite3 DBAPI2 connectionother DBAPI2 objects are not tested, please consider using SQLAlchemy\n",
      "  warnings.warn(\n"
     ]
    }
   ],
   "source": [
    "# DB에 접속 \n",
    "db = pymysql.connect(\n",
    "    host = 'IP adress',\n",
    "    port = 3306,\n",
    "    user = 'eddi',\n",
    "    passwd = 'password',\n",
    "    db = 'buy_idea_db'\n",
    ")\n",
    "\n",
    "cursor = db.cursor()\n",
    "\n",
    "sql = \"\"\"\n",
    "    select * from buy_dia_member;\n",
    "\"\"\"\n",
    "\n",
    "cursor.execute(sql)\n",
    "\n",
    "rows = cursor.fetchall()\n",
    "\n",
    "# DB데이터 조회하기\n",
    "for row in rows:\n",
    "    print(row)\n",
    "print('파이썬을 활용한 db 테이블 조회 성공!')\n",
    "\n",
    "# DB데이터 cvs파일로 저장\n",
    "memberInfoData = pd.read_sql_query(sql, db)\n",
    "memberInfoData.to_csv('member_info_data.csv', index=False)\n",
    "print('DB 데이터 cvs파일 저장 성공!')\n",
    "    \n",
    "db.close()"
   ]
  },
  {
   "cell_type": "code",
   "execution_count": null,
   "id": "dc53709f",
   "metadata": {
    "pycharm": {
     "name": "#%%\n"
    }
   },
   "outputs": [],
   "source": []
  }
 ],
 "metadata": {
  "kernelspec": {
   "display_name": "Python 3 (ipykernel)",
   "language": "python",
   "name": "python3"
  },
  "language_info": {
   "codemirror_mode": {
    "name": "ipython",
    "version": 3
   },
   "file_extension": ".py",
   "mimetype": "text/x-python",
   "name": "python",
   "nbconvert_exporter": "python",
   "pygments_lexer": "ipython3",
   "version": "3.9.12"
  }
 },
 "nbformat": 4,
 "nbformat_minor": 5
}