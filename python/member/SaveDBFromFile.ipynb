{
 "cells": [
  {
   "cell_type": "code",
   "execution_count": 2,
   "id": "a73c0a95",
   "metadata": {},
   "outputs": [],
   "source": [
    "import pandas as pd \n",
    "import pymysql \n",
    "import csv"
   ]
  },
  {
   "cell_type": "code",
   "execution_count": 6,
   "id": "54cb0f82",
   "metadata": {},
   "outputs": [
    {
     "name": "stderr",
     "output_type": "stream",
     "text": [
      "C:\\Users\\user\\AppData\\Local\\Temp\\ipykernel_161416\\2445787851.py:1: FutureWarning: The error_bad_lines argument has been deprecated and will be removed in a future version. Use on_bad_lines in the future.\n",
      "\n",
      "\n",
      "  data = pd.read_csv('member_info_data.csv', engine='python', encoding='UTF-8', error_bad_lines=False, index_col=False)\n"
     ]
    }
   ],
   "source": [
    "data = pd.read_csv('member_info_data.csv', engine='python', encoding='UTF-8', error_bad_lines=False, index_col=False)"
   ]
  },
  {
   "cell_type": "code",
   "execution_count": 7,
   "id": "086c3d39",
   "metadata": {},
   "outputs": [
    {
     "data": {
      "text/html": [
       "<div>\n",
       "<style scoped>\n",
       "    .dataframe tbody tr th:only-of-type {\n",
       "        vertical-align: middle;\n",
       "    }\n",
       "\n",
       "    .dataframe tbody tr th {\n",
       "        vertical-align: top;\n",
       "    }\n",
       "\n",
       "    .dataframe thead th {\n",
       "        text-align: right;\n",
       "    }\n",
       "</style>\n",
       "<table border=\"1\" class=\"dataframe\">\n",
       "  <thead>\n",
       "    <tr style=\"text-align: right;\">\n",
       "      <th></th>\n",
       "      <th>id</th>\n",
       "      <th>member_id</th>\n",
       "      <th>member_type</th>\n",
       "      <th>nick_name</th>\n",
       "      <th>password</th>\n",
       "    </tr>\n",
       "  </thead>\n",
       "  <tbody>\n",
       "    <tr>\n",
       "      <th>0</th>\n",
       "      <td>1</td>\n",
       "      <td>ljb8194</td>\n",
       "      <td>일반회원</td>\n",
       "      <td>JBTV</td>\n",
       "      <td>123456</td>\n",
       "    </tr>\n",
       "    <tr>\n",
       "      <th>1</th>\n",
       "      <td>2</td>\n",
       "      <td>joanna</td>\n",
       "      <td>판매자</td>\n",
       "      <td>조쿤</td>\n",
       "      <td>123456</td>\n",
       "    </tr>\n",
       "    <tr>\n",
       "      <th>2</th>\n",
       "      <td>3</td>\n",
       "      <td>testId</td>\n",
       "      <td>판매자</td>\n",
       "      <td>메롱</td>\n",
       "      <td>123456</td>\n",
       "    </tr>\n",
       "  </tbody>\n",
       "</table>\n",
       "</div>"
      ],
      "text/plain": [
       "   id member_id member_type nick_name  password\n",
       "0   1   ljb8194        일반회원      JBTV    123456\n",
       "1   2    joanna         판매자        조쿤    123456\n",
       "2   3    testId         판매자        메롱    123456"
      ]
     },
     "execution_count": 7,
     "metadata": {},
     "output_type": "execute_result"
    }
   ],
   "source": [
    "data"
   ]
  },
  {
   "cell_type": "code",
   "execution_count": 5,
   "id": "18ce2606",
   "metadata": {},
   "outputs": [
    {
     "name": "stdout",
     "output_type": "stream",
     "text": [
      "<_csv.reader object at 0x0000019AF8583460>\n"
     ]
    }
   ],
   "source": [
    "f = open('member_info_data.csv', 'r', encoding='UTF-8')\n",
    "csv_reader = csv.reader(f, delimiter=',')\n",
    "\n",
    "print(csv_reader)"
   ]
  },
  {
   "cell_type": "code",
   "execution_count": 8,
   "id": "a81abb5c",
   "metadata": {},
   "outputs": [],
   "source": [
    "cnt = 0\n",
    "\n",
    "db = pymysql.connect(\n",
    "    host = 'IP adress',\n",
    "    port = 3306,\n",
    "    user = 'eddi',\n",
    "    passwd = 'password',\n",
    "    db = 'buy_idea_db'\n",
    ")\n",
    "\n",
    "cursor = db.cursor()\n",
    "\n",
    "for row in csv_reader:\n",
    "    if cnt == 0:\n",
    "        cnt += 1\n",
    "        continue\n",
    "    \n",
    "    member_id = (row[1])\n",
    "    nick_name = (row[2])\n",
    "    password = (row[3])\n",
    "    member_type = (row[4])\n",
    "\n",
    "        \n",
    "    sql = \"INSERT INTO buy_dia_member (member_id, nick_name, password, member_type) VALUES (%s, %s, %s, %s)\"\n",
    "        \n",
    "    cursor.execute(sql, (member_id, nick_name, password, member_type))\n",
    "\n",
    "db.commit()\n",
    "\n",
    "f.close()\n",
    "db.close()"
   ]
  },
  {
   "cell_type": "code",
   "execution_count": null,
   "id": "9689d09a",
   "metadata": {},
   "outputs": [],
   "source": []
  }
 ],
 "metadata": {
  "kernelspec": {
   "display_name": "Python 3 (ipykernel)",
   "language": "python",
   "name": "python3"
  },
  "language_info": {
   "codemirror_mode": {
    "name": "ipython",
    "version": 3
   },
   "file_extension": ".py",
   "mimetype": "text/x-python",
   "name": "python",
   "nbconvert_exporter": "python",
   "pygments_lexer": "ipython3",
   "version": "3.9.12"
  }
 },
 "nbformat": 4,
 "nbformat_minor": 5
}
