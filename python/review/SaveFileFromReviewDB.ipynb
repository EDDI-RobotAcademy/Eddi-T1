{
 "cells": [
  {
   "cell_type": "code",
   "execution_count": 1,
   "id": "529919ed",
   "metadata": {},
   "outputs": [],
   "source": [
    "import pymysql\n",
    "import pandas as pd"
   ]
  },
  {
   "cell_type": "code",
   "execution_count": 2,
   "id": "a4c996be",
   "metadata": {},
   "outputs": [
    {
     "name": "stdout",
     "output_type": "stream",
     "text": [
      "(2, '24e8fe15-1de9-45e1-91ba-713503a99fc2handmade_3_5.jpg', 'C:\\\\Eddi-T1\\\\flutter\\\\buy_idea\\\\assets\\\\review\\\\', 'C:\\\\Eddi-T1\\\\vue\\\\frontend\\\\src\\\\assets\\\\reviewImg\\\\', 'handmade_3_5.jpg', 2)\n",
      "(3, 'e3852482-61a2-4dc5-80a5-710b020ed8a2product1_6.jpg', 'C:\\\\Eddi-T1\\\\flutter\\\\buy_idea\\\\assets\\\\review\\\\', 'C:\\\\Eddi-T1\\\\vue\\\\frontend\\\\src\\\\assets\\\\reviewImg\\\\', 'product1_6.jpg', 3)\n",
      "파이썬을 활용한 db 테이블 조회 성공!\n",
      "DB 데이터 cvs파일 저장 성공!\n"
     ]
    },
    {
     "name": "stderr",
     "output_type": "stream",
     "text": [
      "C:\\Users\\user\\anaconda3\\lib\\site-packages\\pandas\\io\\sql.py:761: UserWarning: pandas only support SQLAlchemy connectable(engine/connection) ordatabase string URI or sqlite3 DBAPI2 connectionother DBAPI2 objects are not tested, please consider using SQLAlchemy\n",
      "  warnings.warn(\n",
      "C:\\Users\\user\\anaconda3\\lib\\site-packages\\pandas\\io\\sql.py:761: UserWarning: pandas only support SQLAlchemy connectable(engine/connection) ordatabase string URI or sqlite3 DBAPI2 connectionother DBAPI2 objects are not tested, please consider using SQLAlchemy\n",
      "  warnings.warn(\n"
     ]
    }
   ],
   "source": [
    "# DB에 접속 \n",
    "db = pymysql.connect(\n",
    "    host = 'IP주소',\n",
    "    port = 3306,\n",
    "    user = 'eddi',\n",
    "    passwd = '비밀번호',\n",
    "    db = 'buy_idea_db'\n",
    ")\n",
    "\n",
    "cursor = db.cursor()\n",
    "\n",
    "sql1 = \"\"\"\n",
    "    select * from review;\n",
    "\"\"\"\n",
    "\n",
    "sql2 = \"\"\"\n",
    "    select * from review_image;\n",
    "\"\"\"\n",
    "\n",
    "\n",
    "cursor.execute(sql1)\n",
    "cursor.execute(sql2)\n",
    "\n",
    "\n",
    "rows = cursor.fetchall()\n",
    "\n",
    "# DB데이터 조회하기\n",
    "for row in rows:\n",
    "    print(row)\n",
    "print('파이썬을 활용한 db 테이블 조회 성공!')\n",
    "\n",
    "# DB데이터 cvs파일로 저장\n",
    "reviewData = pd.read_sql_query(sql1, db)\n",
    "reviewImageData = pd.read_sql_query(sql2, db)\n",
    "\n",
    "reviewData.to_csv('review_data.csv', index=False)\n",
    "reviewImageData.to_csv('review_image_data.csv', index=False)\n",
    "print('DB 데이터 cvs파일 저장 성공!')\n",
    "    \n",
    "db.close()"
   ]
  },
  {
   "cell_type": "code",
   "execution_count": null,
   "id": "f85e2202",
   "metadata": {},
   "outputs": [],
   "source": []
  }
 ],
 "metadata": {
  "kernelspec": {
   "display_name": "Python 3 (ipykernel)",
   "language": "python",
   "name": "python3"
  },
  "language_info": {
   "codemirror_mode": {
    "name": "ipython",
    "version": 3
   },
   "file_extension": ".py",
   "mimetype": "text/x-python",
   "name": "python",
   "nbconvert_exporter": "python",
   "pygments_lexer": "ipython3",
   "version": "3.9.12"
  }
 },
 "nbformat": 4,
 "nbformat_minor": 5
}
