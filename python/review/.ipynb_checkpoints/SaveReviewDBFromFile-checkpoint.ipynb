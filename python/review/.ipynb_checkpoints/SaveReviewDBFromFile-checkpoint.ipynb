{
 "cells": [
  {
   "cell_type": "code",
   "execution_count": 1,
   "id": "ef317705",
   "metadata": {},
   "outputs": [],
   "source": [
    "import pandas as pd \n",
    "import pymysql \n",
    "import csv"
   ]
  },
  {
   "cell_type": "code",
   "execution_count": 2,
   "id": "3f8d198f",
   "metadata": {},
   "outputs": [
    {
     "name": "stderr",
     "output_type": "stream",
     "text": [
      "C:\\Users\\user\\AppData\\Local\\Temp\\ipykernel_107572\\3295766073.py:1: FutureWarning: The error_bad_lines argument has been deprecated and will be removed in a future version. Use on_bad_lines in the future.\n",
      "\n",
      "\n",
      "  review_data = pd.read_csv('review_data.csv', engine='python', encoding='UTF-8', error_bad_lines=False, index_col=False)\n",
      "C:\\Users\\user\\AppData\\Local\\Temp\\ipykernel_107572\\3295766073.py:2: FutureWarning: The error_bad_lines argument has been deprecated and will be removed in a future version. Use on_bad_lines in the future.\n",
      "\n",
      "\n",
      "  review_image_data = pd.read_csv('review_image_data.csv', engine='python', encoding='UTF-8', error_bad_lines=False, index_col=False)\n"
     ]
    }
   ],
   "source": [
    "review_data = pd.read_csv('review_data.csv', engine='python', encoding='UTF-8', error_bad_lines=False, index_col=False)\n",
    "review_image_data = pd.read_csv('review_image_data.csv', engine='python', encoding='UTF-8', error_bad_lines=False, index_col=False)"
   ]
  },
  {
   "cell_type": "code",
   "execution_count": 3,
   "id": "182966ad",
   "metadata": {},
   "outputs": [
    {
     "data": {
      "text/html": [
       "<div>\n",
       "<style scoped>\n",
       "    .dataframe tbody tr th:only-of-type {\n",
       "        vertical-align: middle;\n",
       "    }\n",
       "\n",
       "    .dataframe tbody tr th {\n",
       "        vertical-align: top;\n",
       "    }\n",
       "\n",
       "    .dataframe thead th {\n",
       "        text-align: right;\n",
       "    }\n",
       "</style>\n",
       "<table border=\"1\" class=\"dataframe\">\n",
       "  <thead>\n",
       "    <tr style=\"text-align: right;\">\n",
       "      <th></th>\n",
       "      <th>review_no</th>\n",
       "      <th>content</th>\n",
       "      <th>reg_date</th>\n",
       "      <th>star_rating</th>\n",
       "      <th>upd_date</th>\n",
       "      <th>writer</th>\n",
       "      <th>product_id</th>\n",
       "    </tr>\n",
       "  </thead>\n",
       "  <tbody>\n",
       "    <tr>\n",
       "      <th>0</th>\n",
       "      <td>2</td>\n",
       "      <td>ㄴㅇㄹㅇㄴㄹㄴ</td>\n",
       "      <td>2023-01-21 08:34:05.354</td>\n",
       "      <td>4</td>\n",
       "      <td>2023-01-21 08:34:05.354</td>\n",
       "      <td>JOKUN</td>\n",
       "      <td>90</td>\n",
       "    </tr>\n",
       "    <tr>\n",
       "      <th>1</th>\n",
       "      <td>3</td>\n",
       "      <td>후기수정 테스트</td>\n",
       "      <td>2023-01-21 08:35:41.336</td>\n",
       "      <td>4</td>\n",
       "      <td>2023-01-21 08:37:00.434</td>\n",
       "      <td>JOKUN</td>\n",
       "      <td>74</td>\n",
       "    </tr>\n",
       "  </tbody>\n",
       "</table>\n",
       "</div>"
      ],
      "text/plain": [
       "   review_no   content                 reg_date  star_rating  \\\n",
       "0          2   ㄴㅇㄹㅇㄴㄹㄴ  2023-01-21 08:34:05.354            4   \n",
       "1          3  후기수정 테스트  2023-01-21 08:35:41.336            4   \n",
       "\n",
       "                  upd_date writer  product_id  \n",
       "0  2023-01-21 08:34:05.354  JOKUN          90  \n",
       "1  2023-01-21 08:37:00.434  JOKUN          74  "
      ]
     },
     "execution_count": 3,
     "metadata": {},
     "output_type": "execute_result"
    }
   ],
   "source": [
    "review_data"
   ]
  },
  {
   "cell_type": "code",
   "execution_count": 4,
   "id": "7319331f",
   "metadata": {},
   "outputs": [
    {
     "data": {
      "text/html": [
       "<div>\n",
       "<style scoped>\n",
       "    .dataframe tbody tr th:only-of-type {\n",
       "        vertical-align: middle;\n",
       "    }\n",
       "\n",
       "    .dataframe tbody tr th {\n",
       "        vertical-align: top;\n",
       "    }\n",
       "\n",
       "    .dataframe thead th {\n",
       "        text-align: right;\n",
       "    }\n",
       "</style>\n",
       "<table border=\"1\" class=\"dataframe\">\n",
       "  <thead>\n",
       "    <tr style=\"text-align: right;\">\n",
       "      <th></th>\n",
       "      <th>review_image_id</th>\n",
       "      <th>edited_name</th>\n",
       "      <th>image_path_flutter</th>\n",
       "      <th>image_path_vue</th>\n",
       "      <th>original_name</th>\n",
       "      <th>review_id</th>\n",
       "    </tr>\n",
       "  </thead>\n",
       "  <tbody>\n",
       "    <tr>\n",
       "      <th>0</th>\n",
       "      <td>2</td>\n",
       "      <td>24e8fe15-1de9-45e1-91ba-713503a99fc2handmade_3...</td>\n",
       "      <td>C:\\Eddi-T1\\flutter\\buy_idea\\assets\\review\\</td>\n",
       "      <td>C:\\Eddi-T1\\vue\\frontend\\src\\assets\\reviewImg\\</td>\n",
       "      <td>handmade_3_5.jpg</td>\n",
       "      <td>2</td>\n",
       "    </tr>\n",
       "    <tr>\n",
       "      <th>1</th>\n",
       "      <td>3</td>\n",
       "      <td>e3852482-61a2-4dc5-80a5-710b020ed8a2product1_6...</td>\n",
       "      <td>C:\\Eddi-T1\\flutter\\buy_idea\\assets\\review\\</td>\n",
       "      <td>C:\\Eddi-T1\\vue\\frontend\\src\\assets\\reviewImg\\</td>\n",
       "      <td>product1_6.jpg</td>\n",
       "      <td>3</td>\n",
       "    </tr>\n",
       "  </tbody>\n",
       "</table>\n",
       "</div>"
      ],
      "text/plain": [
       "   review_image_id                                        edited_name  \\\n",
       "0                2  24e8fe15-1de9-45e1-91ba-713503a99fc2handmade_3...   \n",
       "1                3  e3852482-61a2-4dc5-80a5-710b020ed8a2product1_6...   \n",
       "\n",
       "                           image_path_flutter  \\\n",
       "0  C:\\Eddi-T1\\flutter\\buy_idea\\assets\\review\\   \n",
       "1  C:\\Eddi-T1\\flutter\\buy_idea\\assets\\review\\   \n",
       "\n",
       "                                  image_path_vue     original_name  review_id  \n",
       "0  C:\\Eddi-T1\\vue\\frontend\\src\\assets\\reviewImg\\  handmade_3_5.jpg          2  \n",
       "1  C:\\Eddi-T1\\vue\\frontend\\src\\assets\\reviewImg\\    product1_6.jpg          3  "
      ]
     },
     "execution_count": 4,
     "metadata": {},
     "output_type": "execute_result"
    }
   ],
   "source": [
    "review_image_data"
   ]
  },
  {
   "cell_type": "code",
   "execution_count": 5,
   "id": "3c30cd1e",
   "metadata": {},
   "outputs": [],
   "source": [
    "db = pymysql.connect(\n",
    "    host = '192.168.0.8',\n",
    "    port = 3306,\n",
    "    user = 'eddi',\n",
    "    passwd = 'eddi@123',\n",
    "    db = 'buy_idea_db'\n",
    ")"
   ]
  },
  {
   "cell_type": "code",
   "execution_count": 7,
   "id": "87cb6381",
   "metadata": {},
   "outputs": [
    {
     "name": "stdout",
     "output_type": "stream",
     "text": [
      "<_csv.reader object at 0x0000027E078DFEE0>\n"
     ]
    }
   ],
   "source": [
    "f = open('review_data.csv', 'r', encoding='UTF-8')\n",
    "csv_reader = csv.reader(f, delimiter=',')\n",
    "\n",
    "print(csv_reader)\n",
    "\n",
    "cnt = 0\n",
    "\n",
    "cursor = db.cursor()\n",
    "\n",
    "for row in csv_reader:\n",
    "    if cnt == 0:\n",
    "        cnt += 1\n",
    "        continue\n",
    "    \n",
    "    content = (row[1])\n",
    "    reg_date = (row[2])\n",
    "    star_rating = (row[3])\n",
    "    upd_date = (row[4])\n",
    "    writer = (row[5])\n",
    "    product_id = (row[6])\n",
    "\n",
    "        \n",
    "    sql = \"INSERT INTO review (content, reg_date, star_rating, upd_date, writer, product_id) VALUES (%s, %s, %s, %s, %s, %s)\"\n",
    "        \n",
    "    cursor.execute(sql, (content, reg_date, star_rating, upd_date, writer, product_id))\n",
    "\n",
    "db.commit()\n",
    "\n",
    "f.close()"
   ]
  },
  {
   "cell_type": "code",
   "execution_count": 8,
   "id": "3eaa3e9c",
   "metadata": {},
   "outputs": [
    {
     "name": "stdout",
     "output_type": "stream",
     "text": [
      "<_csv.reader object at 0x0000027E0790DEE0>\n"
     ]
    }
   ],
   "source": [
    "f = open('review_image_data.csv', 'r', encoding='UTF-8')\n",
    "csv_reader = csv.reader(f, delimiter=',')\n",
    "\n",
    "print(csv_reader)\n",
    "\n",
    "cnt = 0\n",
    "\n",
    "cursor = db.cursor()\n",
    "\n",
    "for row in csv_reader:\n",
    "    if cnt == 0:\n",
    "        cnt += 1\n",
    "        continue\n",
    "    \n",
    "    edited_name = (row[1])\n",
    "    image_path_flutter = (row[2])\n",
    "    image_path_vue = (row[3])\n",
    "    original_name = (row[4])\n",
    "    review_id = (row[5])\n",
    "\n",
    "        \n",
    "    sql = \"INSERT INTO review_image (edited_name, image_path_flutter, image_path_vue, original_name, review_id) VALUES (%s, %s, %s, %s, %s)\"\n",
    "        \n",
    "    cursor.execute(sql, (edited_name, image_path_flutter, image_path_vue, original_name, review_id))\n",
    "\n",
    "db.commit()\n",
    "\n",
    "f.close()"
   ]
  },
  {
   "cell_type": "code",
   "execution_count": 9,
   "id": "0d0f0c11",
   "metadata": {},
   "outputs": [],
   "source": [
    "db.close()"
   ]
  },
  {
   "cell_type": "code",
   "execution_count": null,
   "id": "416d1a0e",
   "metadata": {},
   "outputs": [],
   "source": []
  }
 ],
 "metadata": {
  "kernelspec": {
   "display_name": "Python 3 (ipykernel)",
   "language": "python",
   "name": "python3"
  },
  "language_info": {
   "codemirror_mode": {
    "name": "ipython",
    "version": 3
   },
   "file_extension": ".py",
   "mimetype": "text/x-python",
   "name": "python",
   "nbconvert_exporter": "python",
   "pygments_lexer": "ipython3",
   "version": "3.9.12"
  }
 },
 "nbformat": 4,
 "nbformat_minor": 5
}
